{
 "cells": [
  {
   "cell_type": "code",
   "execution_count": 12,
   "id": "87b90296",
   "metadata": {},
   "outputs": [],
   "source": [
    "# 1. Begin by importing the necessary libraries, numpy.\n",
    "#______________________________________________________________________________________________________________\n",
    "import numpy as np\n",
    "import csv\n",
    "#______________________________________________________________________________________________________________"
   ]
  },
  {
   "cell_type": "code",
   "execution_count": 13,
   "id": "04902226",
   "metadata": {},
   "outputs": [
    {
     "name": "stdout",
     "output_type": "stream",
     "text": [
      "[128.  66. 120. 141. 267.  95. 158. 168. 349.  70. 109. 200. 114.  17.\n",
      " 125. 100.  76. 133. 115. 104. 315. 116. 112. 151. 191. 122. 110.  35.\n",
      " 120. 201.  74. 106. 114. 320. 100. 144. 184. 110.  80.  47.  75. 134.\n",
      "  96.  88.  44. 144. 120. 144. 100. 120. 112. 134. 286.  97.  96. 135.\n",
      " 180. 144. 120.  99. 165. 116. 258. 126. 312. 125. 136. 172.  97.  81.\n",
      "  95. 187. 113. 176. 110. 180. 130. 111. 167. 265.  50. 136.  99. 104.\n",
      " 210. 175. 131. 188.  81. 122.  25. 137.  50. 115. 131. 133. 151. 160.\n",
      " 100. 225. 120. 216.  94. 136. 139. 152. 118. 185. 154.  85. 175. 259.\n",
      " 180.  44. 137.  81. 194.  93. 370. 160. 182. 650.  74.  70.  25. 102.\n",
      " 290.  84.  88. 242. 129. 185. 168. 175. 122. 187. 100.  70.  30. 225.\n",
      " 125. 118. 152. 244. 113.  50. 600. 160. 187. 120. 255.  98. 275. 121.\n",
      " 158.  75. 182. 112. 129.  63. 200.  95. 700.  81. 187.  87. 116. 101.\n",
      " 495. 116. 102. 180.  67.  73. 260. 108. 120.  66.  58. 168. 188.  48.\n",
      " 164. 160.  76. 120. 170. 187. 120. 113.  83.  90. 166. 135. 124. 120.\n",
      "  80.  55.  59. 127. 214. 128. 240. 130. 137. 100. 135. 131.  72. 127.\n",
      "  60. 116. 144. 175. 128. 170. 138. 210. 158. 200. 104.  42. 120. 280.\n",
      " 140. 170. 255. 122. 112.  96. 120. 140. 155. 108. 123. 120. 112. 137.\n",
      " 123.  90. 201. 138. 104. 279. 192. 255. 115.  94. 304. 128. 330. 134.\n",
      " 155. 120. 128. 151. 150. 160. 135.  90.  30. 136. 126. 150.  90. 115.\n",
      " 207.  80. 436. 124. 158. 112.  78.  54.  89.  99. 120. 115. 187. 139.\n",
      " 127. 134. 143. 172. 110. 200. 135. 151. 113.  93. 105. 132.  96. 140.\n",
      " 135. 104. 480. 185.  84. 111.  56. 144. 159. 111. 120.  88. 112. 155.\n",
      " 115. 124. 132. 300. 376. 130. 184. 110.  67. 117.  98.  71. 490. 182.\n",
      "  70. 160. 176.  71. 173.  46. 158.  74. 125. 160. 152. 126. 259. 187.\n",
      " 228. 308.  95. 105. 130. 116. 165.  67. 100. 200.  81. 236. 130.  95.\n",
      " 141. 133.  96. 124. 175. 570.  55. 155. 380. 111. 110. 120. 130. 130.\n",
      "  71. 130. 128. 296. 156. 128. 100. 113. 132. 136. 125. 185. 275. 120.\n",
      " 113. 113. 135.  71.  95. 109. 103.  45.  65. 103.  53. 194. 115. 115.\n",
      "  66. 152. 360.  62. 160. 218. 110. 178.  60. 160. 239. 112. 138. 138.\n",
      "  80. 100. 110.  96. 121.  81. 133.  87.  60. 150. 105. 405. 143. 100.\n",
      "  50. 187. 138. 187. 180. 148. 152. 175. 130. 110.  55. 150. 190. 125.\n",
      "  60. 149.  90.  84.  96. 118. 173. 136. 160. 160. 128. 153. 132.  98.\n",
      " 140.  70. 110.  98. 110. 162. 113. 100.  93. 162. 150. 230. 132.  86.\n",
      " 154. 113. 128. 234. 246. 131.  80. 500. 160.  75.  96. 186. 110. 225.\n",
      " 119. 105. 107. 111.  95. 209. 113. 100. 208. 138. 124. 243. 480.  96.\n",
      " 188.  40. 100. 250. 148.  70. 311. 150. 113. 123. 185.  95.  45.  55.\n",
      " 100. 480. 400. 110. 161.  94. 130. 216. 100. 110. 196. 125. 126. 324.\n",
      " 107.  66. 157. 140.  99.  95. 128. 102. 155.  80. 145. 103. 110. 158.\n",
      " 181. 132.  26.  84. 260. 162. 182. 108. 600. 211. 132. 258. 120.  70.\n",
      " 123.   9. 104. 186. 165. 275. 187. 150. 108. 136. 110. 107. 161. 205.\n",
      "  90.  36.  61. 146. 172. 104.  70.  94. 106.  56. 205. 292. 142. 260.\n",
      " 110. 187.  88. 180. 192. 350. 155. 128. 172. 496. 173. 157. 108.  71.\n",
      "  40. 253. 187. 133.]\n"
     ]
    }
   ],
   "source": [
    "# 2. Use the open() function to open csv file and assign the result to a variable\n",
    "#_________________________________________________________________________________________________________________\n",
    "import csv\n",
    "import numpy as np\n",
    "\n",
    "loan_amounts = []\n",
    "\n",
    "# Use of open() function to open csv file\n",
    "with open(r\"C:\\Users\\Admin\\Documents\\Personal\\GOMYCODE\\CHECKPOINTS\\Loan_prediction_dataset.csv\", encoding='utf-8') as file:\n",
    "    result = csv.reader(file)\n",
    "    \n",
    "    header = next(result)\n",
    "    \n",
    "    try:\n",
    "        loan_amount_index = header.index('LoanAmount')\n",
    "    except ValueError:\n",
    "        raise ValueError(\"'LoanAmount' column not found in the CSV file.\")\n",
    "    for row in result:\n",
    "        if len(row) > loan_amount_index:\n",
    "            value = row[loan_amount_index]\n",
    "            try:\n",
    "                loan_amounts.append(float(value))\n",
    "            except ValueError:\n",
    "                continue\n",
    "\n",
    "loan_amounts_array = np.array(loan_amounts)\n",
    "print(loan_amounts_array)\n",
    "#___________________________________________________________________________________________________________________"
   ]
  },
  {
   "cell_type": "code",
   "execution_count": 16,
   "id": "c5876d44",
   "metadata": {},
   "outputs": [
    {
     "name": "stdout",
     "output_type": "stream",
     "text": [
      "\n",
      "Mean Loan Amount: 146.41\n",
      "Median Loan Amount: 128.00\n",
      "Standard Deviation of Loan Amount: 85.52\n"
     ]
    }
   ],
   "source": [
    "# 3.Use the numpy array to perform some basic statistical analysis on the data, such as finding the mean, median, and standard deviation of the loan amounts.\n",
    "\n",
    "#_________________________________________________________________________________________________________________________\n",
    "import numpy as np\n",
    "\n",
    "loan_mean = np.mean(loan_amounts_array)\n",
    "loan_median = np.median(loan_amounts_array)\n",
    "loan_std_dev = np.std(loan_amounts_array)\n",
    "\n",
    "print(f\"\\nMean Loan Amount: {loan_mean:.2f}\")\n",
    "print(f\"Median Loan Amount: {loan_median:.2f}\")\n",
    "print(f\"Standard Deviation of Loan Amount: {loan_std_dev:.2f}\")\n",
    "#__________________________________________________________________________________________________________________________"
   ]
  },
  {
   "cell_type": "code",
   "execution_count": null,
   "id": "ab6df68f",
   "metadata": {},
   "outputs": [],
   "source": [
    "# Be sure to close the file after you have finished reading it in with the open() function.\n",
    "# Use the delimiter parameter in the genfromtxt() function to specify that the values in the file are separated by commas.\n",
    "# You can use the numpy functions mean(), median(), and std() to find the mean, median, and standard deviation of the loan amounts."
   ]
  }
 ],
 "metadata": {
  "kernelspec": {
   "display_name": "Python 3",
   "language": "python",
   "name": "python3"
  },
  "language_info": {
   "codemirror_mode": {
    "name": "ipython",
    "version": 3
   },
   "file_extension": ".py",
   "mimetype": "text/x-python",
   "name": "python",
   "nbconvert_exporter": "python",
   "pygments_lexer": "ipython3",
   "version": "3.11.3"
  }
 },
 "nbformat": 4,
 "nbformat_minor": 5
}
